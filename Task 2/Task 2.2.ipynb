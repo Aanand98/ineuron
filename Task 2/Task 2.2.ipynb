{
 "cells": [
  {
   "cell_type": "code",
   "execution_count": null,
   "metadata": {},
   "outputs": [],
   "source": [
    "fac,count = -1,1\n",
    "for i in range(11):\n",
    "    for j in range(count):\n",
    "        print(\"*\",end=\" \")\n",
    "    print(\"\\n\")\n",
    "    count = count - fac\n",
    "    if i == 4:\n",
    "        fac = 1    "
   ]
  }
 ],
 "metadata": {
  "kernelspec": {
   "display_name": "Python 3",
   "language": "python",
   "name": "python3"
  },
  "language_info": {
   "codemirror_mode": {
    "name": "ipython",
    "version": 3
   },
   "file_extension": ".py",
   "mimetype": "text/x-python",
   "name": "python",
   "nbconvert_exporter": "python",
   "pygments_lexer": "ipython3",
   "version": "3.7.6"
  }
 },
 "nbformat": 4,
 "nbformat_minor": 4
}
